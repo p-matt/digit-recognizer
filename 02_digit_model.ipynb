{
 "cells": [
  {
   "cell_type": "code",
   "execution_count": null,
   "metadata": {
    "collapsed": true
   },
   "outputs": [],
   "source": [
    "import matplotlib.pyplot as plt\n",
    "import numpy as np\n",
    "import seaborn as sns\n",
    "\n",
    "from tensorflow.keras.models import Model\n",
    "from tensorflow.keras.layers import Dense, Dropout, Activation, Flatten, Input\n",
    "from tensorflow.keras.layers import Conv2D, MaxPooling2D\n",
    "from tensorflow.keras.layers import BatchNormalization\n",
    "from keras.callbacks import EarlyStopping\n"
   ]
  },
  {
   "cell_type": "code",
   "execution_count": null,
   "outputs": [],
   "source": [
    "data_path = \"data/\"\n",
    "\n",
    "X_train = np.load(f\"{data_path}/single/X_train.npy\")\n",
    "X_test = np.load(f\"{data_path}/single/X_test.npy\")\n",
    "y_train = np.load(f\"{data_path}/single/y_train.npy\")\n",
    "y_test = np.load(f\"{data_path}/single/y_test.npy\")"
   ],
   "metadata": {
    "collapsed": false,
    "pycharm": {
     "name": "#%%\n"
    }
   }
  },
  {
   "cell_type": "code",
   "execution_count": null,
   "outputs": [],
   "source": [
    "# Declares fews variables\n",
    "\n",
    "img_shape = (32, 32, 1)\n",
    "n_classes = 10\n",
    "n_filters = 16\n",
    "n_epochs = 20 # How many time the CNet will be feed\n",
    "kernel_size = (4, 4) # Shape of the filter, le filtre correspond une petite matrice utilisé pour appliqué un produit matriciel et simplifier les données\n",
    "pool_size = (2, 2) # Shape of the feature after the pooling\n",
    "batch_size = 64 # NB. samples in a batch. Batch mean a subset of X since we not gonna feed the CNet once"
   ],
   "metadata": {
    "collapsed": false,
    "pycharm": {
     "name": "#%%\n"
    }
   }
  },
  {
   "cell_type": "code",
   "execution_count": null,
   "outputs": [],
   "source": [
    "inputs = Input(shape=img_shape)\n",
    "\n",
    "cov = Conv2D(n_filters,kernel_size=(kernel_size[0],kernel_size[1]),padding='same', use_bias=False)(inputs)\n",
    "cov = BatchNormalization()(cov)\n",
    "cov = Activation('relu')(cov)\n",
    "cov = Conv2D(n_filters,kernel_size=(kernel_size[0],kernel_size[1]),padding='same', use_bias=False)(cov)\n",
    "cov = BatchNormalization()(cov)\n",
    "cov = Activation('relu')(cov)\n",
    "cov = MaxPooling2D(pool_size=pool_size)(cov)\n",
    "cov = Dropout(0.3)(cov)\n",
    "\n",
    "cov = Conv2D((n_filters * 2),kernel_size=(kernel_size[0],kernel_size[1]), use_bias=False)(cov)\n",
    "cov = BatchNormalization()(cov)\n",
    "cov = Activation('relu')(cov)\n",
    "cov = Conv2D((n_filters * 2),kernel_size=(kernel_size[0],kernel_size[1]),padding='same', use_bias=False)(cov)\n",
    "cov = BatchNormalization()(cov)\n",
    "cov = Activation('relu')(cov)\n",
    "cov = MaxPooling2D(pool_size=pool_size)(cov)\n",
    "cov = Dropout(0.3)(cov)\n",
    "\n",
    "\n",
    "cov = Conv2D((n_filters * 4),kernel_size=(kernel_size[0],kernel_size[1]), use_bias=False)(cov)\n",
    "cov = BatchNormalization()(cov)\n",
    "cov = Activation('relu')(cov)\n",
    "cov = Conv2D((n_filters * 4),kernel_size=(kernel_size[0],kernel_size[1]),padding='same', use_bias=False)(cov)\n",
    "cov = BatchNormalization()(cov)\n",
    "cov = Activation('relu')(cov)\n",
    "cov = MaxPooling2D(pool_size=pool_size)(cov)\n",
    "cov = Dropout(0.3)(cov)\n",
    "\n",
    "cov = Conv2D((n_filters * 8),kernel_size=(kernel_size[0],kernel_size[1]), use_bias=False, padding=\"same\")(cov)\n",
    "cov = BatchNormalization()(cov)\n",
    "cov = Activation('relu')(cov)\n",
    "cov = Conv2D((n_filters * 8),kernel_size=(kernel_size[0],kernel_size[1]),padding='same', use_bias=False)(cov)\n",
    "cov = BatchNormalization()(cov)\n",
    "cov = Activation('relu')(cov)\n",
    "cov = MaxPooling2D(pool_size=pool_size, padding=\"same\")(cov)\n",
    "cov = Dropout(0.3)(cov)\n",
    "\n",
    "cov_out = Flatten()(cov)\n",
    "\n",
    "\n",
    "# Dense Layers\n",
    "cov2 = Dense(2056, activation='relu')(cov_out)\n",
    "cov2 = Dropout(0.3)(cov2)\n",
    "\n",
    "\n",
    "\n",
    "# Prediction layers\n",
    "c0 = Dense(n_classes, activation='softmax')(cov2)\n",
    "\n",
    "# Defining the model\n",
    "model = Model(inputs=inputs,outputs=c0)\n",
    "print (model.summary())"
   ],
   "metadata": {
    "collapsed": false,
    "pycharm": {
     "name": "#%%\n"
    }
   }
  },
  {
   "cell_type": "code",
   "execution_count": null,
   "outputs": [],
   "source": [
    "print('Training set', X_train.shape, y_train.shape)\n",
    "print('Test set', X_test.shape, y_test.shape)"
   ],
   "metadata": {
    "collapsed": false,
    "pycharm": {
     "name": "#%%\n"
    }
   }
  },
  {
   "cell_type": "code",
   "execution_count": null,
   "outputs": [],
   "source": [
    "model.compile(loss='categorical_crossentropy',optimizer='adam',metrics=['accuracy'])\n",
    "\n",
    "early_stopping = EarlyStopping(monitor='val_loss', min_delta=0, patience=5, verbose=0, mode='auto')\n",
    "\n",
    "# Fitting the model\n",
    "model.fit(X_train, y_train, batch_size=batch_size, epochs=n_epochs,verbose=1,\n",
    "          validation_data=(X_test, y_test), callbacks=[early_stopping])"
   ],
   "metadata": {
    "collapsed": false,
    "pycharm": {
     "name": "#%%\n"
    }
   }
  },
  {
   "cell_type": "code",
   "execution_count": null,
   "outputs": [],
   "source": [
    "y_pred = model.predict(X_test)"
   ],
   "metadata": {
    "collapsed": false,
    "pycharm": {
     "name": "#%%\n"
    }
   }
  },
  {
   "cell_type": "code",
   "execution_count": null,
   "outputs": [],
   "source": [
    "correct = np.argmax(y_pred, axis=1) == np.argmax(y_test, axis=1)\n",
    "incorrect = np.argmax(y_pred, axis=1) != np.argmax(y_test, axis=1)\n",
    "accuracy = sum(correct)/correct.shape[0]\n",
    "print(f\"Accuracy's model {round(accuracy*100, 2)} %\")"
   ],
   "metadata": {
    "collapsed": false,
    "pycharm": {
     "name": "#%%\n"
    }
   }
  },
  {
   "cell_type": "code",
   "execution_count": null,
   "outputs": [],
   "source": [
    "def plot_result(imgs, y_true_p, y_pred_p, veracity=True):\n",
    "    fig, axes = plt.subplots(1, 10, figsize=(25, 25))\n",
    "    axes = axes.flatten()\n",
    "    X_plot = imgs[correct] if veracity else imgs[incorrect]\n",
    "    y_true_p = y_true_p[correct] if veracity else y_true_p[incorrect]\n",
    "    y_pred_p = y_pred_p[correct] if veracity else y_pred_p[incorrect]\n",
    "    for i, ax in enumerate(axes):\n",
    "        ax.imshow(X_plot[i,:,:,0], cmap=\"binary\")\n",
    "\n",
    "        title = f\"True:{np.argmax(y_true_p[i])}, Pred:{np.argmax(y_pred_p[i])}\"\n",
    "        ax.set_title(title)"
   ],
   "metadata": {
    "collapsed": false,
    "pycharm": {
     "name": "#%%\n"
    }
   }
  },
  {
   "cell_type": "code",
   "execution_count": null,
   "outputs": [],
   "source": [
    "# Plot somes good result\n",
    "plot_result(X_test, y_test, y_pred)"
   ],
   "metadata": {
    "collapsed": false,
    "pycharm": {
     "name": "#%%\n"
    }
   }
  },
  {
   "cell_type": "code",
   "execution_count": null,
   "outputs": [],
   "source": [
    "# Plot somes wrong result\n",
    "plot_result(X_test, y_test, y_pred, veracity=False)"
   ],
   "metadata": {
    "collapsed": false,
    "pycharm": {
     "name": "#%%\n"
    }
   }
  },
  {
   "cell_type": "code",
   "execution_count": null,
   "outputs": [],
   "source": [
    "from sklearn.metrics import confusion_matrix\n",
    "\n",
    "# Set the figure size\n",
    "plt.figure(figsize=(12, 8))\n",
    "\n",
    "# Calculate the confusion matrix\n",
    "cm = confusion_matrix(y_true=np.argmax(y_test, axis=1), y_pred=np.argmax(y_pred, axis=1))\n",
    "\n",
    "# Normalize the confusion matrix\n",
    "cm = cm.astype('float') / cm.sum(axis=1)[:, np.newaxis] * 100.0\n",
    "\n",
    "# Visualize the confusion matrix\n",
    "sns.heatmap(cm, annot=True, cmap='Reds', fmt='.1f', square=True);"
   ],
   "metadata": {
    "collapsed": false,
    "pycharm": {
     "name": "#%%\n"
    }
   }
  }
 ],
 "metadata": {
  "kernelspec": {
   "display_name": "Python 3",
   "language": "python",
   "name": "python3"
  },
  "language_info": {
   "codemirror_mode": {
    "name": "ipython",
    "version": 2
   },
   "file_extension": ".py",
   "mimetype": "text/x-python",
   "name": "python",
   "nbconvert_exporter": "python",
   "pygments_lexer": "ipython2",
   "version": "2.7.6"
  }
 },
 "nbformat": 4,
 "nbformat_minor": 0
}