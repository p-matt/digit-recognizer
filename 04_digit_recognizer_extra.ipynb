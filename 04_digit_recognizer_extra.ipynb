{
 "cells": [
  {
   "cell_type": "code",
   "execution_count": 6,
   "metadata": {
    "collapsed": true
   },
   "outputs": [],
   "source": [
    "from keras.datasets import mnist\n",
    "import numpy as np\n",
    "\n",
    "from tensorflow.keras.models import Model\n",
    "from tensorflow.keras.layers import Dense, Dropout, Activation, Flatten, Input, BatchNormalization, Conv2D, MaxPooling2D\n",
    "from sklearn.preprocessing import OneHotEncoder\n",
    "\n"
   ]
  },
  {
   "cell_type": "code",
   "execution_count": 7,
   "outputs": [
    {
     "name": "stdout",
     "output_type": "stream",
     "text": [
      "(70000, 28, 28, 1) (70000, 10)\n"
     ]
    }
   ],
   "source": [
    "# Load data and flatten images\n",
    "(X_train, y_train), (X_test, y_test) = mnist.load_data()\n",
    "\n",
    "X = np.concatenate((X_train, X_test)).astype('float32').reshape((70000, 28, 28, 1))\n",
    "y = np.concatenate((y_train, y_test))\n",
    "\n",
    "enc = OneHotEncoder().fit(y_train.reshape(-1, 1))\n",
    "\n",
    "y = enc.transform(y.reshape(-1, 1)).toarray()\n",
    "X = (X - 127.5) / 127.5\n",
    "\n",
    "print(X.shape, y.shape)"
   ],
   "metadata": {
    "collapsed": false,
    "pycharm": {
     "name": "#%%\n"
    }
   }
  },
  {
   "cell_type": "code",
   "execution_count": 4,
   "outputs": [],
   "source": [
    "# Declares fews variables\n",
    "\n",
    "img_shape = (28, 28, 1)\n",
    "n_classes = 10\n",
    "n_filters = 16\n",
    "n_epochs = 20 # How many time the CNet will be feed\n",
    "kernel_size = (4, 4) # Shape of the filter, le filtre correspond une petite matrice utilisé pour appliqué un produit matriciel et simplifier les données\n",
    "pool_size = (2, 2) # Shape of the feature after the pooling\n",
    "batch_size = 64 # NB. samples in a batch. Batch mean a subset of X since we not gonna feed the CNet once"
   ],
   "metadata": {
    "collapsed": false,
    "pycharm": {
     "name": "#%%\n"
    }
   }
  },
  {
   "cell_type": "code",
   "execution_count": 17,
   "outputs": [
    {
     "name": "stdout",
     "output_type": "stream",
     "text": [
      "Model: \"model_2\"\n",
      "_________________________________________________________________\n",
      "Layer (type)                 Output Shape              Param #   \n",
      "=================================================================\n",
      "input_4 (InputLayer)         [(None, 28, 28, 1)]       0         \n",
      "_________________________________________________________________\n",
      "conv2d_16 (Conv2D)           (None, 28, 28, 16)        256       \n",
      "_________________________________________________________________\n",
      "batch_normalization_16 (Batc (None, 28, 28, 16)        64        \n",
      "_________________________________________________________________\n",
      "activation_16 (Activation)   (None, 28, 28, 16)        0         \n",
      "_________________________________________________________________\n",
      "conv2d_17 (Conv2D)           (None, 28, 28, 16)        4096      \n",
      "_________________________________________________________________\n",
      "batch_normalization_17 (Batc (None, 28, 28, 16)        64        \n",
      "_________________________________________________________________\n",
      "activation_17 (Activation)   (None, 28, 28, 16)        0         \n",
      "_________________________________________________________________\n",
      "max_pooling2d_8 (MaxPooling2 (None, 14, 14, 16)        0         \n",
      "_________________________________________________________________\n",
      "dropout_10 (Dropout)         (None, 14, 14, 16)        0         \n",
      "_________________________________________________________________\n",
      "conv2d_18 (Conv2D)           (None, 11, 11, 32)        8192      \n",
      "_________________________________________________________________\n",
      "batch_normalization_18 (Batc (None, 11, 11, 32)        128       \n",
      "_________________________________________________________________\n",
      "activation_18 (Activation)   (None, 11, 11, 32)        0         \n",
      "_________________________________________________________________\n",
      "conv2d_19 (Conv2D)           (None, 11, 11, 32)        16384     \n",
      "_________________________________________________________________\n",
      "batch_normalization_19 (Batc (None, 11, 11, 32)        128       \n",
      "_________________________________________________________________\n",
      "activation_19 (Activation)   (None, 11, 11, 32)        0         \n",
      "_________________________________________________________________\n",
      "max_pooling2d_9 (MaxPooling2 (None, 5, 5, 32)          0         \n",
      "_________________________________________________________________\n",
      "dropout_11 (Dropout)         (None, 5, 5, 32)          0         \n",
      "_________________________________________________________________\n",
      "conv2d_20 (Conv2D)           (None, 2, 2, 64)          32768     \n",
      "_________________________________________________________________\n",
      "batch_normalization_20 (Batc (None, 2, 2, 64)          256       \n",
      "_________________________________________________________________\n",
      "activation_20 (Activation)   (None, 2, 2, 64)          0         \n",
      "_________________________________________________________________\n",
      "conv2d_21 (Conv2D)           (None, 2, 2, 64)          65536     \n",
      "_________________________________________________________________\n",
      "batch_normalization_21 (Batc (None, 2, 2, 64)          256       \n",
      "_________________________________________________________________\n",
      "activation_21 (Activation)   (None, 2, 2, 64)          0         \n",
      "_________________________________________________________________\n",
      "max_pooling2d_10 (MaxPooling (None, 1, 1, 64)          0         \n",
      "_________________________________________________________________\n",
      "dropout_12 (Dropout)         (None, 1, 1, 64)          0         \n",
      "_________________________________________________________________\n",
      "conv2d_22 (Conv2D)           (None, 1, 1, 128)         131072    \n",
      "_________________________________________________________________\n",
      "batch_normalization_22 (Batc (None, 1, 1, 128)         512       \n",
      "_________________________________________________________________\n",
      "activation_22 (Activation)   (None, 1, 1, 128)         0         \n",
      "_________________________________________________________________\n",
      "conv2d_23 (Conv2D)           (None, 1, 1, 128)         262144    \n",
      "_________________________________________________________________\n",
      "batch_normalization_23 (Batc (None, 1, 1, 128)         512       \n",
      "_________________________________________________________________\n",
      "activation_23 (Activation)   (None, 1, 1, 128)         0         \n",
      "_________________________________________________________________\n",
      "max_pooling2d_11 (MaxPooling (None, 1, 1, 128)         0         \n",
      "_________________________________________________________________\n",
      "dropout_13 (Dropout)         (None, 1, 1, 128)         0         \n",
      "_________________________________________________________________\n",
      "flatten_2 (Flatten)          (None, 128)               0         \n",
      "_________________________________________________________________\n",
      "dense_4 (Dense)              (None, 2056)              265224    \n",
      "_________________________________________________________________\n",
      "dropout_14 (Dropout)         (None, 2056)              0         \n",
      "_________________________________________________________________\n",
      "dense_5 (Dense)              (None, 10)                20570     \n",
      "=================================================================\n",
      "Total params: 808,162\n",
      "Trainable params: 807,202\n",
      "Non-trainable params: 960\n",
      "_________________________________________________________________\n",
      "None\n"
     ]
    }
   ],
   "source": [
    "inputs = Input(shape=img_shape)\n",
    "\n",
    "cov = Conv2D(n_filters,kernel_size=(kernel_size[0],kernel_size[1]),padding='same', use_bias=False)(inputs)\n",
    "cov = BatchNormalization()(cov)\n",
    "cov = Activation('relu')(cov)\n",
    "cov = Conv2D(n_filters,kernel_size=(kernel_size[0],kernel_size[1]),padding='same', use_bias=False)(cov)\n",
    "cov = BatchNormalization()(cov)\n",
    "cov = Activation('relu')(cov)\n",
    "cov = MaxPooling2D(pool_size=pool_size)(cov)\n",
    "cov = Dropout(0.3)(cov)\n",
    "\n",
    "cov = Conv2D((n_filters * 2),kernel_size=(kernel_size[0],kernel_size[1]), use_bias=False)(cov)\n",
    "cov = BatchNormalization()(cov)\n",
    "cov = Activation('relu')(cov)\n",
    "cov = Conv2D((n_filters * 2),kernel_size=(kernel_size[0],kernel_size[1]),padding='same', use_bias=False)(cov)\n",
    "cov = BatchNormalization()(cov)\n",
    "cov = Activation('relu')(cov)\n",
    "cov = MaxPooling2D(pool_size=pool_size)(cov)\n",
    "cov = Dropout(0.3)(cov)\n",
    "\n",
    "\n",
    "cov = Conv2D((n_filters * 4),kernel_size=(kernel_size[0],kernel_size[1]), use_bias=False)(cov)\n",
    "cov = BatchNormalization()(cov)\n",
    "cov = Activation('relu')(cov)\n",
    "cov = Conv2D((n_filters * 4),kernel_size=(kernel_size[0],kernel_size[1]),padding='same', use_bias=False)(cov)\n",
    "cov = BatchNormalization()(cov)\n",
    "cov = Activation('relu')(cov)\n",
    "cov = MaxPooling2D(pool_size=pool_size)(cov)\n",
    "cov = Dropout(0.3)(cov)\n",
    "\n",
    "cov = Conv2D((n_filters * 8),kernel_size=(kernel_size[0],kernel_size[1]), use_bias=False, padding=\"same\")(cov)\n",
    "cov = BatchNormalization()(cov)\n",
    "cov = Activation('relu')(cov)\n",
    "cov = Conv2D((n_filters * 8),kernel_size=(kernel_size[0],kernel_size[1]),padding='same', use_bias=False)(cov)\n",
    "cov = BatchNormalization()(cov)\n",
    "cov = Activation('relu')(cov)\n",
    "cov = MaxPooling2D(pool_size=pool_size, padding=\"same\")(cov)\n",
    "cov = Dropout(0.3)(cov)\n",
    "\n",
    "cov_out = Flatten()(cov)\n",
    "\n",
    "\n",
    "# Dense Layers\n",
    "cov2 = Dense(2056, activation='relu')(cov_out)\n",
    "cov2 = Dropout(0.3)(cov2)\n",
    "\n",
    "\n",
    "\n",
    "# Prediction layers\n",
    "c0 = Dense(n_classes, activation='softmax')(cov2)\n",
    "\n",
    "# Defining the model\n",
    "model = Model(inputs=inputs,outputs=c0)\n",
    "print (model.summary())"
   ],
   "metadata": {
    "collapsed": false,
    "pycharm": {
     "name": "#%%\n"
    }
   }
  },
  {
   "cell_type": "code",
   "execution_count": 18,
   "outputs": [
    {
     "name": "stdout",
     "output_type": "stream",
     "text": [
      "Epoch 1/20\n",
      "1094/1094 [==============================] - 85s 77ms/step - loss: 0.2682 - accuracy: 0.9172\n",
      "Epoch 2/20\n",
      "1094/1094 [==============================] - 81s 74ms/step - loss: 0.1005 - accuracy: 0.9730\n",
      "Epoch 3/20\n",
      "1094/1094 [==============================] - 84s 77ms/step - loss: 0.0805 - accuracy: 0.9791\n",
      "Epoch 4/20\n",
      "1094/1094 [==============================] - 88s 81ms/step - loss: 0.0709 - accuracy: 0.9823\n",
      "Epoch 5/20\n",
      "1094/1094 [==============================] - 95s 87ms/step - loss: 0.0655 - accuracy: 0.9833\n",
      "Epoch 6/20\n",
      "1094/1094 [==============================] - 94s 86ms/step - loss: 0.0569 - accuracy: 0.9853\n",
      "Epoch 7/20\n",
      "1094/1094 [==============================] - 94s 86ms/step - loss: 0.0548 - accuracy: 0.9860\n",
      "Epoch 8/20\n",
      "1094/1094 [==============================] - 93s 85ms/step - loss: 0.0500 - accuracy: 0.9868\n",
      "Epoch 9/20\n",
      "1094/1094 [==============================] - 93s 85ms/step - loss: 0.0470 - accuracy: 0.9881\n",
      "Epoch 10/20\n",
      "1094/1094 [==============================] - 93s 85ms/step - loss: 0.0440 - accuracy: 0.9889\n",
      "Epoch 11/20\n",
      "1094/1094 [==============================] - 94s 86ms/step - loss: 0.0426 - accuracy: 0.9892\n",
      "Epoch 12/20\n",
      "1094/1094 [==============================] - 93s 85ms/step - loss: 0.0398 - accuracy: 0.9898\n",
      "Epoch 13/20\n",
      "1094/1094 [==============================] - 93s 85ms/step - loss: 0.0394 - accuracy: 0.9900\n",
      "Epoch 14/20\n",
      "1094/1094 [==============================] - 93s 85ms/step - loss: 0.0376 - accuracy: 0.9901\n",
      "Epoch 15/20\n",
      "1094/1094 [==============================] - 92s 84ms/step - loss: 0.0357 - accuracy: 0.9903\n",
      "Epoch 16/20\n",
      "1094/1094 [==============================] - 93s 85ms/step - loss: 0.0332 - accuracy: 0.9912\n",
      "Epoch 17/20\n",
      "1094/1094 [==============================] - 92s 84ms/step - loss: 0.0331 - accuracy: 0.9913\n",
      "Epoch 18/20\n",
      "1094/1094 [==============================] - 93s 85ms/step - loss: 0.0317 - accuracy: 0.9919\n",
      "Epoch 19/20\n",
      "1094/1094 [==============================] - 93s 85ms/step - loss: 0.0317 - accuracy: 0.9918\n",
      "Epoch 20/20\n",
      "1094/1094 [==============================] - 92s 84ms/step - loss: 0.0304 - accuracy: 0.9921\n"
     ]
    },
    {
     "data": {
      "text/plain": "<keras.callbacks.History at 0x2bdfb9daa60>"
     },
     "execution_count": 18,
     "metadata": {},
     "output_type": "execute_result"
    }
   ],
   "source": [
    "model.compile(loss='categorical_crossentropy', optimizer='adam', metrics=['accuracy'])\n",
    "\n",
    "# Fitting the model\n",
    "model.fit(X, y, batch_size=batch_size, epochs=n_epochs,verbose=1)"
   ],
   "metadata": {
    "collapsed": false,
    "pycharm": {
     "name": "#%%\n"
    }
   }
  },
  {
   "cell_type": "code",
   "execution_count": 19,
   "outputs": [
    {
     "name": "stdout",
     "output_type": "stream",
     "text": [
      "INFO:tensorflow:Assets written to: data/single/model\\assets\n"
     ]
    }
   ],
   "source": [
    "model.save(\"data/single/model\")"
   ],
   "metadata": {
    "collapsed": false,
    "pycharm": {
     "name": "#%%\n"
    }
   }
  },
  {
   "cell_type": "code",
   "execution_count": 24,
   "outputs": [
    {
     "data": {
      "text/plain": "(array([  0,   1,   2,   3,   9,  11,  14,  16,  18,  23,  24,  25,  26,\n         27,  30,  35,  36,  39,  43,  45,  46,  49,  55,  56,  64,  66,\n         70,  78,  80,  81,  82,  90,  93,  94, 107, 108, 114, 119, 126,\n        127, 130, 132, 133, 135, 136, 139, 148, 150, 154, 156, 160, 166,\n        170, 171, 172, 175, 182, 183, 186, 187, 190, 195, 198, 201, 205,\n        207, 212, 213, 219, 221, 225, 226, 229, 238, 240, 241, 242, 244,\n        247, 249, 250, 251, 252, 253, 255], dtype=uint8),\n array([618,   2,   3,   1,   1,   3,   1,   2,   5,   1,   1,   1,   1,\n          1,   1,   1,   1,   2,   1,   1,   1,   1,   1,   1,   2,   1,\n          1,   1,   2,   2,   2,   1,   2,   1,   1,   1,   1,   1,   1,\n          1,   1,   1,   1,   1,   2,   1,   1,   1,   3,   1,   1,   1,\n          1,   1,   2,   1,   2,   1,   1,   1,   2,   2,   2,   1,   1,\n          1,   1,   1,   2,   1,   2,   1,   1,   1,   1,   2,   1,   1,\n          2,   2,   1,   1,   1,  54,   1], dtype=int64))"
     },
     "execution_count": 24,
     "metadata": {},
     "output_type": "execute_result"
    }
   ],
   "source": [
    "np.unique(X_train[0], return_counts=True)"
   ],
   "metadata": {
    "collapsed": false,
    "pycharm": {
     "name": "#%%\n"
    }
   }
  },
  {
   "cell_type": "code",
   "execution_count": null,
   "outputs": [],
   "source": [],
   "metadata": {
    "collapsed": false,
    "pycharm": {
     "name": "#%%\n"
    }
   }
  },
  {
   "cell_type": "code",
   "execution_count": 4,
   "outputs": [
    {
     "data": {
      "text/plain": "<matplotlib.image.AxesImage at 0x138b24f7c10>"
     },
     "execution_count": 4,
     "metadata": {},
     "output_type": "execute_result"
    },
    {
     "data": {
      "text/plain": "<Figure size 432x288 with 1 Axes>",
      "image/png": "[encoded data removed]"
     },
     "metadata": {
      "needs_background": "light"
     },
     "output_type": "display_data"
    }
   ],
   "source": [
    "import matplotlib.pyplot as plt\n",
    "plt.imshow(X[1], cmap='gray')"
   ],
   "metadata": {
    "collapsed": false,
    "pycharm": {
     "name": "#%%\n"
    }
   }
  },
  {
   "cell_type": "code",
   "execution_count": null,
   "outputs": [],
   "source": [
    "X[1]"
   ],
   "metadata": {
    "collapsed": false,
    "pycharm": {
     "name": "#%%\n"
    }
   }
  },
  {
   "cell_type": "code",
   "execution_count": 40,
   "outputs": [
    {
     "data": {
      "text/plain": "array([[3.4159373e-09, 6.1828337e-07, 3.6774311e-06, 9.9980360e-01,\n        2.4954781e-11, 1.8770449e-04, 4.0591445e-08, 1.7561611e-06,\n        1.8272335e-06, 8.0254296e-07]], dtype=float32)"
     },
     "execution_count": 40,
     "metadata": {},
     "output_type": "execute_result"
    }
   ],
   "source": [
    "model.predict(X[10].reshape(1,28, 28))"
   ],
   "metadata": {
    "collapsed": false,
    "pycharm": {
     "name": "#%%\n"
    }
   }
  },
  {
   "cell_type": "code",
   "execution_count": 5,
   "outputs": [
    {
     "data": {
      "text/plain": "(array([-1.        , -0.9529412 , -0.94509804, -0.92156863, -0.90588236,\n        -0.8509804 , -0.8352941 , -0.8039216 , -0.78039217, -0.77254903,\n        -0.70980394, -0.7019608 , -0.6313726 , -0.62352943, -0.60784316,\n        -0.6       , -0.5764706 , -0.56078434, -0.5529412 , -0.5294118 ,\n        -0.5058824 , -0.44313726, -0.4117647 , -0.40392157, -0.38039216,\n        -0.34117648, -0.33333334, -0.3254902 , -0.24705882, -0.12156863,\n        -0.10588235, -0.05098039, -0.04313726,  0.00392157,  0.01960784,\n         0.02745098,  0.05882353,  0.10588235,  0.13725491,  0.14509805,\n         0.16078432,  0.24705882,  0.27058825,  0.2784314 ,  0.29411766,\n         0.30980393,  0.31764707,  0.35686275,  0.39607844,  0.40392157,\n         0.45882353,  0.48235294,  0.49019608,  0.5294118 ,  0.5372549 ,\n         0.5529412 ,  0.56078434,  0.58431375,  0.6313726 ,  0.6862745 ,\n         0.7490196 ,  0.75686276,  0.7647059 ,  0.78039217,  0.7882353 ,\n         0.79607844,  0.8039216 ,  0.827451  ,  0.85882354,  0.8666667 ,\n         0.8745098 ,  0.88235295,  0.90588236,  0.92941177,  0.9529412 ,\n         0.9764706 ,  0.9843137 ,  1.        ], dtype=float32),\n array([608,   1,   3,   1,   2,   1,   1,   2,   2,   1,   1,   1,   1,\n          4,   2,   2,   1,   1,   2,   1,   1,   2,   1,   1,   1,   2,\n          6,   1,   1,   1,   2,   1,   1,   1,   1,   1,   1,   1,   2,\n          1,   1,   2,   1,   1,   3,   2,   1,   1,   2,   1,   1,   1,\n          2,   2,   2,   1,   1,   1,   1,   1,   2,   1,   3,   1,   1,\n          1,   1,   3,   1,   4,   1,   1,   1,   1,   1,  41,  23,   2],\n       dtype=int64))"
     },
     "execution_count": 5,
     "metadata": {},
     "output_type": "execute_result"
    }
   ],
   "source": [
    "np.unique(X[1], return_counts=True)"
   ],
   "metadata": {
    "collapsed": false,
    "pycharm": {
     "name": "#%%\n"
    }
   }
  }
 ],
 "metadata": {
  "kernelspec": {
   "name": "ml",
   "language": "python",
   "display_name": "ML"
  },
  "language_info": {
   "codemirror_mode": {
    "name": "ipython",
    "version": 2
   },
   "file_extension": ".py",
   "mimetype": "text/x-python",
   "name": "python",
   "nbconvert_exporter": "python",
   "pygments_lexer": "ipython2",
   "version": "2.7.6"
  }
 },
 "nbformat": 4,
 "nbformat_minor": 0
}